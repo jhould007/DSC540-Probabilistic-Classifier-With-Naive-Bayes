{
 "cells": [
  {
   "cell_type": "markdown",
   "id": "ebd28a8d",
   "metadata": {},
   "source": [
    "# Probabilistic Classifier with Naïve Bayes\n",
    "By Josh Houlding\n",
    "\n",
    "A Naïve Bayes classifier is not a single algorithm but uses multiple machine learning algorithms to classify data. It not only uses probability, but it is simple to implement. Some real-world examples of its use include filtering spam, classifying documents, text analysis, or medical diagnosis.\n",
    "\n",
    "# Part 1\n",
    "\n",
    "To perform sentiment analysis using a Naïve Bayes algorithm, complete the following:\n",
    "1. Access the resources related to sentiment analysis, located in the topic Resources. Note: There are about 50 datasets that are suitable for use in a sentiment analysis task. For this part of the exercise, you must choose one of these datasets, provided it includes at least 10,000 instances.\n",
    "2. Ensure that the datasets are suitable for classification using this method.\n",
    "3. You may search for data in other repositories, such as Data.gov, Kaggle or Scikit Learn.\n",
    "\n",
    "# Part 2\n",
    "\n",
    "For your selected dataset, build a classification model as follows:\n",
    "\n",
    "1. Explain the dataset and the type of information you wish to gain by applying a classification method.\n",
    "2. Explain the Naïve Bayes algorithm and how you will be using it in your analysis (list the steps, the intuition behind the mathematical representation, and address its assumptions).\n",
    "3. Import the necessary libraries, then read the dataset into a data frame and perform initial statistical exploration.\n",
    "4. Clean the data and address unusual phenomena (e.g., normalization, feature scaling, outliers); use illustrative diagrams and plots and explain them.\n",
    "5. Formulate two questions that can be answered by applying a classification method using the Naïve Bayes.\n",
    "6. Choose one of the Naive Bayes types of algorithms: Gaussian Naïve Bayes, Multinomial Naïve Bayes, or Bernoulli Naïve Bayes and explain your reasoning.\n",
    "7. Split the data into dependent and independent variables (or features and labels).\n",
    "8. Vectorize the text into numbers.\n",
    "9. Train the Naïve Bayes classifier on the training set.\n",
    "10. Make classification predictions.\n",
    "11. Interpret the results in the context of the questions you asked.\n",
    "12. Validate your model using a confusion matrix, accuracy score, ROC-AUC curves, and k-fold cross validation. Then, explain the results.\n",
    "13. Include all mathematical formulas used and graphs representing the final outcomes. <br><br>\n",
    "\n",
    "<hr style=\"height:2px\">"
   ]
  },
  {
   "cell_type": "markdown",
   "id": "ba245c6d",
   "metadata": {},
   "source": [
    "# <span style=\"color:#8080ff\">Part 1</span>\n",
    "\n",
    "# Tasks 1.1-1.3\n",
    "<b>1.1:</b>Access the resources related to sentiment analysis, located in the topic Resources. Note: There are about 50 datasets that are suitable for use in a sentiment analysis task. For this part of the exercise, you must choose one of these datasets, provided it includes at least 10,000 instances.\n",
    "\n",
    "<b>1.2:</b> Ensure that the datasets are suitable for classification using this method.\n",
    "\n",
    "<b>1.3:</b> You may search for data in other repositories, such as Data.gov, Kaggle or Scikit Learn. <br>\n",
    "\n",
    "<b>Dataset Selected:</b> \"ChatGPT sentiment analysis\" (Kaggle) <br>\n",
    "<b>Dataset Link:</b> https://www.kaggle.com/datasets/charunisa/chatgpt-sentiment-analysis/data"
   ]
  },
  {
   "cell_type": "markdown",
   "id": "2ce3177b",
   "metadata": {},
   "source": [
    "# <span style=\"color:#1f6635\">Part 2</span>\n",
    "\n",
    "# Task 2.1\n",
    "<i>Explain the dataset and the type of information you wish to gain by applying a classification method.</i>\n",
    "\n",
    "The dataset I have chosen for this assignment contains tweets that mention ChatGPT over the period of a month. Exactly which month is not specified, but given that the dataset says it was updated a year ago and is not expected to be updated again, its initial upload was probably a year ago, meaning the data is likely from around May 2023. A classification model powered by a Naive Bayes classifier can help us predict which tweets are positive, negative and neutral in sentiment. \n",
    "\n",
    "# Task 2.2\n",
    "<i>Explain the Naive Bayes algorithm and how you will be using it in your analysis (list the steps, the intuition behind the mathematical representation, and address its assumptions).</i>\n",
    "\n",
    "The Naïve Bayes algorithm is an algorithm commonly used for classification tasks within machine learning due to its rapid performance with large datasets. The algorithm is based on Bayes' Theorem, which calculates conditional probabilities, IE \"what is the probability of B happening given that A has happened?\" \n",
    "\n",
    "The general Naïve Bayes formula is as follows:\n",
    "$P(C|X) = \\frac{P(X|C) \\cdot P(C)}{P(X)}$\n",
    "\n",
    "In words, the probability of C given X is the product of the probability of X given C and the probability of C divided by the probability of X.\n",
    "\n",
    "Naïve Bayes assumes the following: 1) All features are assumed to be conditionally independent, and 2) All features have an equal contribution to the outcome. \n",
    "\n",
    "The formula for conditional independence of features goes like this: $P(X|C) = P(x_1, x_2, \\ldots, x_n | C) = \\prod_{i=1}^{n} P(x_i | C)$\n",
    "\n",
    "This formula expresses that the presence or absence of a specific feature is independent of the presence or absence of any other feature, given the class. \n",
    "\n",
    "Naïve Bayes classifiers are frequently used over other methods like K-Nearest Neighbors because of their fast performance as linear classifiers. The assumption of conditional independence ensures far fewer calculations are necessary per step than with KNN, vastly improving performance as the size of the dataset increases.\n",
    "\n",
    "# Task 2.3\n",
    "<i>Import the necessary libraries, then read the dataset into a data frame and perform initial statistical exploration.</i>\n",
    "\n",
    "### Loading and viewing the data"
   ]
  },
  {
   "cell_type": "code",
   "execution_count": 46,
   "id": "0cb335b8",
   "metadata": {},
   "outputs": [
    {
     "data": {
      "text/html": [
       "<div>\n",
       "<style scoped>\n",
       "    .dataframe tbody tr th:only-of-type {\n",
       "        vertical-align: middle;\n",
       "    }\n",
       "\n",
       "    .dataframe tbody tr th {\n",
       "        vertical-align: top;\n",
       "    }\n",
       "\n",
       "    .dataframe thead th {\n",
       "        text-align: right;\n",
       "    }\n",
       "</style>\n",
       "<table border=\"1\" class=\"dataframe\">\n",
       "  <thead>\n",
       "    <tr style=\"text-align: right;\">\n",
       "      <th></th>\n",
       "      <th>Unnamed: 0</th>\n",
       "      <th>tweets</th>\n",
       "      <th>labels</th>\n",
       "    </tr>\n",
       "  </thead>\n",
       "  <tbody>\n",
       "    <tr>\n",
       "      <th>0</th>\n",
       "      <td>0</td>\n",
       "      <td>ChatGPT: Optimizing Language Models for Dialog...</td>\n",
       "      <td>neutral</td>\n",
       "    </tr>\n",
       "    <tr>\n",
       "      <th>1</th>\n",
       "      <td>1</td>\n",
       "      <td>Try talking with ChatGPT, our new AI system wh...</td>\n",
       "      <td>good</td>\n",
       "    </tr>\n",
       "    <tr>\n",
       "      <th>2</th>\n",
       "      <td>2</td>\n",
       "      <td>ChatGPT: Optimizing Language Models for Dialog...</td>\n",
       "      <td>neutral</td>\n",
       "    </tr>\n",
       "  </tbody>\n",
       "</table>\n",
       "</div>"
      ],
      "text/plain": [
       "   Unnamed: 0                                             tweets   labels\n",
       "0           0  ChatGPT: Optimizing Language Models for Dialog...  neutral\n",
       "1           1  Try talking with ChatGPT, our new AI system wh...     good\n",
       "2           2  ChatGPT: Optimizing Language Models for Dialog...  neutral"
      ]
     },
     "execution_count": 46,
     "metadata": {},
     "output_type": "execute_result"
    }
   ],
   "source": [
    "import pandas as pd\n",
    "\n",
    "df = pd.read_csv(\"ChatGPT.csv\") # Load data\n",
    "\n",
    "df.head(3) # View data"
   ]
  },
  {
   "cell_type": "code",
   "execution_count": 47,
   "id": "05330928",
   "metadata": {},
   "outputs": [
    {
     "data": {
      "text/html": [
       "<div>\n",
       "<style scoped>\n",
       "    .dataframe tbody tr th:only-of-type {\n",
       "        vertical-align: middle;\n",
       "    }\n",
       "\n",
       "    .dataframe tbody tr th {\n",
       "        vertical-align: top;\n",
       "    }\n",
       "\n",
       "    .dataframe thead th {\n",
       "        text-align: right;\n",
       "    }\n",
       "</style>\n",
       "<table border=\"1\" class=\"dataframe\">\n",
       "  <thead>\n",
       "    <tr style=\"text-align: right;\">\n",
       "      <th></th>\n",
       "      <th>tweet</th>\n",
       "      <th>label</th>\n",
       "    </tr>\n",
       "  </thead>\n",
       "  <tbody>\n",
       "    <tr>\n",
       "      <th>0</th>\n",
       "      <td>ChatGPT: Optimizing Language Models for Dialog...</td>\n",
       "      <td>neutral</td>\n",
       "    </tr>\n",
       "    <tr>\n",
       "      <th>1</th>\n",
       "      <td>Try talking with ChatGPT, our new AI system wh...</td>\n",
       "      <td>good</td>\n",
       "    </tr>\n",
       "    <tr>\n",
       "      <th>2</th>\n",
       "      <td>ChatGPT: Optimizing Language Models for Dialog...</td>\n",
       "      <td>neutral</td>\n",
       "    </tr>\n",
       "  </tbody>\n",
       "</table>\n",
       "</div>"
      ],
      "text/plain": [
       "                                               tweet    label\n",
       "0  ChatGPT: Optimizing Language Models for Dialog...  neutral\n",
       "1  Try talking with ChatGPT, our new AI system wh...     good\n",
       "2  ChatGPT: Optimizing Language Models for Dialog...  neutral"
      ]
     },
     "execution_count": 47,
     "metadata": {},
     "output_type": "execute_result"
    }
   ],
   "source": [
    "# Drop redundant column \"Unnamed: 0\"\n",
    "df.drop(columns={\"Unnamed: 0\"}, inplace=True)\n",
    "\n",
    "# Rename columns\n",
    "df.rename(columns={\"tweets\": \"tweet\", \"labels\": \"label\"}, inplace=True)\n",
    "\n",
    "df.head(3) # View results"
   ]
  },
  {
   "cell_type": "markdown",
   "id": "eda2b52a",
   "metadata": {},
   "source": [
    "### Displaying the shape of the data"
   ]
  },
  {
   "cell_type": "code",
   "execution_count": 48,
   "id": "e807bd1a",
   "metadata": {
    "scrolled": true
   },
   "outputs": [
    {
     "name": "stdout",
     "output_type": "stream",
     "text": [
      "<class 'pandas.core.frame.DataFrame'>\n",
      "RangeIndex: 219294 entries, 0 to 219293\n",
      "Data columns (total 2 columns):\n",
      " #   Column  Non-Null Count   Dtype \n",
      "---  ------  --------------   ----- \n",
      " 0   tweet   219294 non-null  object\n",
      " 1   label   219294 non-null  object\n",
      "dtypes: object(2)\n",
      "memory usage: 3.3+ MB\n"
     ]
    }
   ],
   "source": [
    "df.info()"
   ]
  },
  {
   "cell_type": "markdown",
   "id": "ea04b28b",
   "metadata": {},
   "source": [
    "The dataset contains almost 220,000 entries, so we will have plenty of data to work with. The columns are simple, with only the tweet contents and sentiment detected (positive, neutral or negative). "
   ]
  },
  {
   "cell_type": "markdown",
   "id": "da32d0c4",
   "metadata": {},
   "source": [
    "### Checking class balance"
   ]
  },
  {
   "cell_type": "code",
   "execution_count": 49,
   "id": "de698084",
   "metadata": {},
   "outputs": [
    {
     "name": "stdout",
     "output_type": "stream",
     "text": [
      "label\n",
      "bad        107796\n",
      "good        56011\n",
      "neutral     55487\n",
      "Name: count, dtype: int64\n"
     ]
    },
    {
     "data": {
      "image/png": "[encoded data removed]",
      "text/plain": [
       "<Figure size 400x400 with 1 Axes>"
      ]
     },
     "metadata": {},
     "output_type": "display_data"
    }
   ],
   "source": [
    "import matplotlib.pyplot as plt\n",
    "import seaborn as sns\n",
    "\n",
    "# Find label counts\n",
    "label_counts = df[\"label\"].value_counts()\n",
    "print(label_counts)\n",
    "\n",
    "# Define colors for pie chart\n",
    "colors = {\"good\": \"green\", \"neutral\": \"yellow\", \"bad\": \"red\"}\n",
    "color_list = [colors[label] for label in label_counts.index]\n",
    "\n",
    "# Create pie chart of label counts\n",
    "plt.figure(figsize=(4, 4))\n",
    "plt.pie(label_counts, labels=label_counts.index, autopct=\"%1.1f%%\", startangle=140, colors=color_list)\n",
    "plt.axis(\"equal\")\n",
    "plt.show()"
   ]
  },
  {
   "cell_type": "markdown",
   "id": "ebb52d76",
   "metadata": {},
   "source": [
    "We see that about half of the total tweets express negative sentiment, with only 25.5% being positive and 25.3% being neutral. This could have an effect on the accuracy of our model down the line, as it will get more training with negative tweets."
   ]
  },
  {
   "cell_type": "markdown",
   "id": "23bb4ede",
   "metadata": {},
   "source": [
    "### Text length analysis"
   ]
  },
  {
   "cell_type": "code",
   "execution_count": 50,
   "id": "d97046c8",
   "metadata": {},
   "outputs": [
    {
     "name": "stdout",
     "output_type": "stream",
     "text": [
      "Descriptive statistics for \"length\":\n",
      "median   124.0\n",
      "count    219294.000000\n",
      "mean        144.713604\n",
      "std          80.146339\n",
      "min           6.000000\n",
      "25%          80.000000\n",
      "50%         124.000000\n",
      "75%         207.000000\n",
      "max         357.000000\n",
      "Name: length, dtype: float64\n"
     ]
    },
    {
     "data": {
      "image/png": "[encoded data removed]",
      "text/plain": [
       "<Figure size 1000x500 with 1 Axes>"
      ]
     },
     "metadata": {},
     "output_type": "display_data"
    }
   ],
   "source": [
    "# Find length of tweets\n",
    "df[\"length\"] = df[\"tweet\"].apply(len)\n",
    "\n",
    "# Reorganize dataframe\n",
    "df = df[[\"tweet\", \"length\", \"label\"]]\n",
    "\n",
    "# Show descriptive statistics for tweet lengths\n",
    "print(\"Descriptive statistics for \\\"length\\\":\")\n",
    "print(\"median  \", df[\"length\"].median())\n",
    "print(df[\"length\"].describe())\n",
    "\n",
    "# Show distribution of tweet lengths\n",
    "plt.figure(figsize=(10, 5))\n",
    "sns.histplot(df[\"length\"])\n",
    "plt.title(\"Distribution of tweet lengths\")\n",
    "plt.show()"
   ]
  },
  {
   "cell_type": "markdown",
   "id": "2f1bd581",
   "metadata": {},
   "source": [
    "We see that the mean tweet is about 145 characters in length, but the mean is 124 characters, suggesting a skewed distribution. There are also a large number of tweets around the 275-character length, which is intriguing. \n",
    "\n",
    "Let's take a look at how the mean and median tweet lengths differ by sentiment: "
   ]
  },
  {
   "cell_type": "code",
   "execution_count": 51,
   "id": "b3e0dca4",
   "metadata": {},
   "outputs": [
    {
     "name": "stdout",
     "output_type": "stream",
     "text": [
      "               mean  median\n",
      "label                      \n",
      "bad      120.677316   100.0\n",
      "good     185.324829   187.0\n",
      "neutral  150.414764   132.0\n"
     ]
    }
   ],
   "source": [
    "# Show mean and median tweet lengths by sentiment\n",
    "lengths_by_sentiment = df.groupby(\"label\")[\"length\"].agg([\"mean\", \"median\"])\n",
    "print(lengths_by_sentiment)"
   ]
  },
  {
   "cell_type": "markdown",
   "id": "e90056c6",
   "metadata": {},
   "source": [
    "On average, tweets expressing good sentiment about ChatGPT are the longest. Many of these could be OpenAI press releases that provide details on new features or improvements, or tweets from excited users wanting to share the LLM's capabilities with their audiences. \n",
    "\n",
    "It is also notable that good tweets have an almost normal distribution, while bad and neutral ones have skewed distributions."
   ]
  },
  {
   "cell_type": "markdown",
   "id": "ed03d5e4",
   "metadata": {},
   "source": [
    "# Task 2.4\n",
    "Clean the data and address unusual phenomena (e.g., normalization, feature scaling, outliers); use illustrative diagrams and plots and explain them.\n",
    "\n",
    "### Handling missing values"
   ]
  },
  {
   "cell_type": "code",
   "execution_count": 52,
   "id": "f3085de2",
   "metadata": {},
   "outputs": [
    {
     "data": {
      "text/plain": [
       "tweet     0\n",
       "length    0\n",
       "label     0\n",
       "dtype: int64"
      ]
     },
     "execution_count": 52,
     "metadata": {},
     "output_type": "execute_result"
    }
   ],
   "source": [
    "# Find missing value count\n",
    "df.isna().sum()"
   ]
  },
  {
   "cell_type": "markdown",
   "id": "b741e5a0",
   "metadata": {},
   "source": [
    "There are no missing values in the data. \n",
    "\n",
    "### Removing duplicates"
   ]
  },
  {
   "cell_type": "markdown",
   "id": "d9a6d49f",
   "metadata": {},
   "source": []
  },
  {
   "cell_type": "code",
   "execution_count": 53,
   "id": "31f3e2c8",
   "metadata": {},
   "outputs": [
    {
     "name": "stdout",
     "output_type": "stream",
     "text": [
      "Length with duplicates: 219294\n",
      "Duplicate count: 1671\n",
      "Length without duplicates: 217623\n"
     ]
    }
   ],
   "source": [
    "print(f\"Length with duplicates: {len(df)}\")\n",
    "print(f\"Duplicate count: {df.duplicated().sum()}\")\n",
    "df.drop_duplicates(inplace=True)\n",
    "print(f\"Length without duplicates: {len(df)}\")"
   ]
  },
  {
   "cell_type": "markdown",
   "id": "49644f9f",
   "metadata": {},
   "source": [
    "### Removing URLs\n",
    "URLs can introduce noise to the model and don't convey any useful information about sentiment, so they should be removed."
   ]
  },
  {
   "cell_type": "code",
   "execution_count": 54,
   "id": "55caa148",
   "metadata": {},
   "outputs": [],
   "source": [
    "import re\n",
    "\n",
    "# Function to remove URLs\n",
    "def remove_urls(string): \n",
    "    url_pattern = re.compile(r\"https?://\\S+|www\\.\\S+\")\n",
    "    return url_pattern.sub(r\"\", string)\n",
    "\n",
    "# Remove URLs from tweets\n",
    "df[\"tweet\"] = df[\"tweet\"].apply(remove_urls)\n",
    "\n",
    "# Recalculate tweet lengths\n",
    "df[\"length\"] = df[\"tweet\"].apply(len)"
   ]
  },
  {
   "cell_type": "markdown",
   "id": "bd6c931a",
   "metadata": {},
   "source": [
    "I also considered removing special characters (#, !, ?, etc.), but decided not to because these can contribute useful information about sentiment. For example, a tweet with at least one exclamation point is far less likely to be neutral in sentiment than a tweet without one. "
   ]
  },
  {
   "cell_type": "markdown",
   "id": "7d7f5756",
   "metadata": {},
   "source": [
    "### Converting all text to lowercase\n",
    "This helps ensure that uppercase letters do not have any impact on the model."
   ]
  },
  {
   "cell_type": "code",
   "execution_count": 55,
   "id": "bbfb533f",
   "metadata": {},
   "outputs": [
    {
     "data": {
      "text/html": [
       "<div>\n",
       "<style scoped>\n",
       "    .dataframe tbody tr th:only-of-type {\n",
       "        vertical-align: middle;\n",
       "    }\n",
       "\n",
       "    .dataframe tbody tr th {\n",
       "        vertical-align: top;\n",
       "    }\n",
       "\n",
       "    .dataframe thead th {\n",
       "        text-align: right;\n",
       "    }\n",
       "</style>\n",
       "<table border=\"1\" class=\"dataframe\">\n",
       "  <thead>\n",
       "    <tr style=\"text-align: right;\">\n",
       "      <th></th>\n",
       "      <th>tweet</th>\n",
       "      <th>length</th>\n",
       "      <th>label</th>\n",
       "    </tr>\n",
       "  </thead>\n",
       "  <tbody>\n",
       "    <tr>\n",
       "      <th>0</th>\n",
       "      <td>chatgpt: optimizing language models for dialog...</td>\n",
       "      <td>57</td>\n",
       "      <td>neutral</td>\n",
       "    </tr>\n",
       "    <tr>\n",
       "      <th>1</th>\n",
       "      <td>try talking with chatgpt, our new ai system wh...</td>\n",
       "      <td>116</td>\n",
       "      <td>good</td>\n",
       "    </tr>\n",
       "    <tr>\n",
       "      <th>2</th>\n",
       "      <td>chatgpt: optimizing language models for dialog...</td>\n",
       "      <td>218</td>\n",
       "      <td>neutral</td>\n",
       "    </tr>\n",
       "  </tbody>\n",
       "</table>\n",
       "</div>"
      ],
      "text/plain": [
       "                                               tweet  length    label\n",
       "0  chatgpt: optimizing language models for dialog...      57  neutral\n",
       "1  try talking with chatgpt, our new ai system wh...     116     good\n",
       "2  chatgpt: optimizing language models for dialog...     218  neutral"
      ]
     },
     "execution_count": 55,
     "metadata": {},
     "output_type": "execute_result"
    }
   ],
   "source": [
    "df[\"tweet\"] = df[\"tweet\"].str.lower()\n",
    "df.head(3)"
   ]
  },
  {
   "cell_type": "markdown",
   "id": "7190cea5",
   "metadata": {},
   "source": [
    "### Normalizing tweet lengths"
   ]
  },
  {
   "cell_type": "code",
   "execution_count": 56,
   "id": "b5f675fc",
   "metadata": {},
   "outputs": [
    {
     "data": {
      "text/html": [
       "<div>\n",
       "<style scoped>\n",
       "    .dataframe tbody tr th:only-of-type {\n",
       "        vertical-align: middle;\n",
       "    }\n",
       "\n",
       "    .dataframe tbody tr th {\n",
       "        vertical-align: top;\n",
       "    }\n",
       "\n",
       "    .dataframe thead th {\n",
       "        text-align: right;\n",
       "    }\n",
       "</style>\n",
       "<table border=\"1\" class=\"dataframe\">\n",
       "  <thead>\n",
       "    <tr style=\"text-align: right;\">\n",
       "      <th></th>\n",
       "      <th>tweet</th>\n",
       "      <th>length</th>\n",
       "      <th>label</th>\n",
       "    </tr>\n",
       "  </thead>\n",
       "  <tbody>\n",
       "    <tr>\n",
       "      <th>0</th>\n",
       "      <td>chatgpt: optimizing language models for dialog...</td>\n",
       "      <td>0.166667</td>\n",
       "      <td>neutral</td>\n",
       "    </tr>\n",
       "    <tr>\n",
       "      <th>1</th>\n",
       "      <td>try talking with chatgpt, our new ai system wh...</td>\n",
       "      <td>0.339181</td>\n",
       "      <td>good</td>\n",
       "    </tr>\n",
       "    <tr>\n",
       "      <th>2</th>\n",
       "      <td>chatgpt: optimizing language models for dialog...</td>\n",
       "      <td>0.637427</td>\n",
       "      <td>neutral</td>\n",
       "    </tr>\n",
       "  </tbody>\n",
       "</table>\n",
       "</div>"
      ],
      "text/plain": [
       "                                               tweet    length    label\n",
       "0  chatgpt: optimizing language models for dialog...  0.166667  neutral\n",
       "1  try talking with chatgpt, our new ai system wh...  0.339181     good\n",
       "2  chatgpt: optimizing language models for dialog...  0.637427  neutral"
      ]
     },
     "execution_count": 56,
     "metadata": {},
     "output_type": "execute_result"
    }
   ],
   "source": [
    "from sklearn.preprocessing import MinMaxScaler\n",
    "\n",
    "# Normalize tweet lengths with min-max scaler\n",
    "scaler = MinMaxScaler()\n",
    "df[\"length\"] = scaler.fit_transform(df[[\"length\"]])\n",
    "df.head(3)"
   ]
  },
  {
   "cell_type": "markdown",
   "id": "d4b78de2",
   "metadata": {},
   "source": [
    "# Task 2.5\n",
    "<i>Formulate two questions that can be answered by applying a classification method using the Naïve Bayes.</i>\n",
    "\n",
    "<b>Question 1:</b> Can we automatically classify tweets about ChatGPT as positive, neutral or negative in sentiment? <br>\n",
    "<b>Question 2:</b> Can we automatically sort tweets about ChatGPT into categories based on their content?\n",
    "\n",
    "# Task 2.6\n",
    "<i>Choose one of the Naive Bayes types of algorithms: Gaussian Naïve Bayes, Multinomial Naïve Bayes, or Bernoulli Naïve Bayes and explain your reasoning.</i>\n",
    "\n",
    "Multinomial Naïve Bayes is the most appropriate type of Naïve Bayes algorithm for this task, because it assumes that features are either categorical or represent counts (such as word counts in text data). Since we are working with tweets in this dataset, MNB will work nicely.\n",
    "\n",
    "Multinomial Naïve Bayes is powered by the following formula:\n",
    "$P(x_i | C) = \\frac{N_{C,i} + \\alpha}{N_C + \\alpha N}$, where:\n",
    "\n",
    "* $N_{C,i}$ is the number of occurrences of feature i in class C,\n",
    "* $N_{C}$ is the total count of features in class C, and \n",
    "* $\\alpha$ is the smoothing parameter for Laplace smoothing.\n",
    "\n",
    "# Task 2.7\n",
    "<i>Split the data into dependent and independent variables (or features and labels).</i>"
   ]
  },
  {
   "cell_type": "code",
   "execution_count": 57,
   "id": "d2cb1830",
   "metadata": {},
   "outputs": [
    {
     "data": {
      "text/html": [
       "<div>\n",
       "<style scoped>\n",
       "    .dataframe tbody tr th:only-of-type {\n",
       "        vertical-align: middle;\n",
       "    }\n",
       "\n",
       "    .dataframe tbody tr th {\n",
       "        vertical-align: top;\n",
       "    }\n",
       "\n",
       "    .dataframe thead th {\n",
       "        text-align: right;\n",
       "    }\n",
       "</style>\n",
       "<table border=\"1\" class=\"dataframe\">\n",
       "  <thead>\n",
       "    <tr style=\"text-align: right;\">\n",
       "      <th></th>\n",
       "      <th>tweet</th>\n",
       "      <th>length</th>\n",
       "      <th>label</th>\n",
       "    </tr>\n",
       "  </thead>\n",
       "  <tbody>\n",
       "    <tr>\n",
       "      <th>0</th>\n",
       "      <td>chatgpt: optimizing language models for dialog...</td>\n",
       "      <td>0.166667</td>\n",
       "      <td>neutral</td>\n",
       "    </tr>\n",
       "    <tr>\n",
       "      <th>1</th>\n",
       "      <td>try talking with chatgpt, our new ai system wh...</td>\n",
       "      <td>0.339181</td>\n",
       "      <td>good</td>\n",
       "    </tr>\n",
       "    <tr>\n",
       "      <th>2</th>\n",
       "      <td>chatgpt: optimizing language models for dialog...</td>\n",
       "      <td>0.637427</td>\n",
       "      <td>neutral</td>\n",
       "    </tr>\n",
       "  </tbody>\n",
       "</table>\n",
       "</div>"
      ],
      "text/plain": [
       "                                               tweet    length    label\n",
       "0  chatgpt: optimizing language models for dialog...  0.166667  neutral\n",
       "1  try talking with chatgpt, our new ai system wh...  0.339181     good\n",
       "2  chatgpt: optimizing language models for dialog...  0.637427  neutral"
      ]
     },
     "execution_count": 57,
     "metadata": {},
     "output_type": "execute_result"
    }
   ],
   "source": [
    "# Show potential features and label\n",
    "df.head(3)"
   ]
  },
  {
   "cell_type": "code",
   "execution_count": 58,
   "id": "8e4ae6f4",
   "metadata": {},
   "outputs": [],
   "source": [
    "# Select features and label\n",
    "features = df.drop(columns={\"label\"})\n",
    "label = df[\"label\"]"
   ]
  },
  {
   "cell_type": "markdown",
   "id": "ef28c28f",
   "metadata": {},
   "source": [
    "# Task 2.8\n",
    "<i>Vectorize the text into numbers.</i>\n",
    "\n",
    "I have selected TF-IDF (Term Frequency-Inverse Document Frequency) for this task because it considers the frequency of words and applies weights to common and uncommon words, ensuring that the most rare and important words are the ones the model considers most reflective of the tweet's sentiment. This makes it more rigorous than BoW (Bag of Words), which only considers the frequency of words. "
   ]
  },
  {
   "cell_type": "code",
   "execution_count": 59,
   "id": "cccaef6f",
   "metadata": {},
   "outputs": [],
   "source": [
    "from sklearn.feature_extraction.text import TfidfVectorizer\n",
    "\n",
    "# Initialize vectorizer\n",
    "vectorizer = TfidfVectorizer(max_features=10000)\n",
    "\n",
    "# Fit and transform tweet column\n",
    "x_tfidf = vectorizer.fit_transform(df[\"tweet\"])"
   ]
  },
  {
   "cell_type": "markdown",
   "id": "ed4a9f26",
   "metadata": {},
   "source": [
    "# Task 2.9\n",
    "<i>Train the Naïve Bayes classifier on the training set.</i>\n",
    "\n",
    "Before this can be done, we must perform a train-test split on the dataset."
   ]
  },
  {
   "cell_type": "code",
   "execution_count": 60,
   "id": "58df05da",
   "metadata": {},
   "outputs": [],
   "source": [
    "from sklearn.model_selection import train_test_split\n",
    "\n",
    "# Perform train-test split\n",
    "x_train, x_test, y_train, y_test = train_test_split(x_tfidf, label, test_size=0.2, random_state=42)"
   ]
  },
  {
   "cell_type": "markdown",
   "id": "658f7aed",
   "metadata": {},
   "source": [
    "Now the Naive Bayes model can be created and fit to the data: "
   ]
  },
  {
   "cell_type": "code",
   "execution_count": 61,
   "id": "3617de26",
   "metadata": {},
   "outputs": [
    {
     "data": {
      "text/html": [
       "<style>#sk-container-id-3 {\n",
       "  /* Definition of color scheme common for light and dark mode */\n",
       "  --sklearn-color-text: black;\n",
       "  --sklearn-color-line: gray;\n",
       "  /* Definition of color scheme for unfitted estimators */\n",
       "  --sklearn-color-unfitted-level-0: #fff5e6;\n",
       "  --sklearn-color-unfitted-level-1: #f6e4d2;\n",
       "  --sklearn-color-unfitted-level-2: #ffe0b3;\n",
       "  --sklearn-color-unfitted-level-3: chocolate;\n",
       "  /* Definition of color scheme for fitted estimators */\n",
       "  --sklearn-color-fitted-level-0: #f0f8ff;\n",
       "  --sklearn-color-fitted-level-1: #d4ebff;\n",
       "  --sklearn-color-fitted-level-2: #b3dbfd;\n",
       "  --sklearn-color-fitted-level-3: cornflowerblue;\n",
       "\n",
       "  /* Specific color for light theme */\n",
       "  --sklearn-color-text-on-default-background: var(--sg-text-color, var(--theme-code-foreground, var(--jp-content-font-color1, black)));\n",
       "  --sklearn-color-background: var(--sg-background-color, var(--theme-background, var(--jp-layout-color0, white)));\n",
       "  --sklearn-color-border-box: var(--sg-text-color, var(--theme-code-foreground, var(--jp-content-font-color1, black)));\n",
       "  --sklearn-color-icon: #696969;\n",
       "\n",
       "  @media (prefers-color-scheme: dark) {\n",
       "    /* Redefinition of color scheme for dark theme */\n",
       "    --sklearn-color-text-on-default-background: var(--sg-text-color, var(--theme-code-foreground, var(--jp-content-font-color1, white)));\n",
       "    --sklearn-color-background: var(--sg-background-color, var(--theme-background, var(--jp-layout-color0, #111)));\n",
       "    --sklearn-color-border-box: var(--sg-text-color, var(--theme-code-foreground, var(--jp-content-font-color1, white)));\n",
       "    --sklearn-color-icon: #878787;\n",
       "  }\n",
       "}\n",
       "\n",
       "#sk-container-id-3 {\n",
       "  color: var(--sklearn-color-text);\n",
       "}\n",
       "\n",
       "#sk-container-id-3 pre {\n",
       "  padding: 0;\n",
       "}\n",
       "\n",
       "#sk-container-id-3 input.sk-hidden--visually {\n",
       "  border: 0;\n",
       "  clip: rect(1px 1px 1px 1px);\n",
       "  clip: rect(1px, 1px, 1px, 1px);\n",
       "  height: 1px;\n",
       "  margin: -1px;\n",
       "  overflow: hidden;\n",
       "  padding: 0;\n",
       "  position: absolute;\n",
       "  width: 1px;\n",
       "}\n",
       "\n",
       "#sk-container-id-3 div.sk-dashed-wrapped {\n",
       "  border: 1px dashed var(--sklearn-color-line);\n",
       "  margin: 0 0.4em 0.5em 0.4em;\n",
       "  box-sizing: border-box;\n",
       "  padding-bottom: 0.4em;\n",
       "  background-color: var(--sklearn-color-background);\n",
       "}\n",
       "\n",
       "#sk-container-id-3 div.sk-container {\n",
       "  /* jupyter's `normalize.less` sets `[hidden] { display: none; }`\n",
       "     but bootstrap.min.css set `[hidden] { display: none !important; }`\n",
       "     so we also need the `!important` here to be able to override the\n",
       "     default hidden behavior on the sphinx rendered scikit-learn.org.\n",
       "     See: https://github.com/scikit-learn/scikit-learn/issues/21755 */\n",
       "  display: inline-block !important;\n",
       "  position: relative;\n",
       "}\n",
       "\n",
       "#sk-container-id-3 div.sk-text-repr-fallback {\n",
       "  display: none;\n",
       "}\n",
       "\n",
       "div.sk-parallel-item,\n",
       "div.sk-serial,\n",
       "div.sk-item {\n",
       "  /* draw centered vertical line to link estimators */\n",
       "  background-image: linear-gradient(var(--sklearn-color-text-on-default-background), var(--sklearn-color-text-on-default-background));\n",
       "  background-size: 2px 100%;\n",
       "  background-repeat: no-repeat;\n",
       "  background-position: center center;\n",
       "}\n",
       "\n",
       "/* Parallel-specific style estimator block */\n",
       "\n",
       "#sk-container-id-3 div.sk-parallel-item::after {\n",
       "  content: \"\";\n",
       "  width: 100%;\n",
       "  border-bottom: 2px solid var(--sklearn-color-text-on-default-background);\n",
       "  flex-grow: 1;\n",
       "}\n",
       "\n",
       "#sk-container-id-3 div.sk-parallel {\n",
       "  display: flex;\n",
       "  align-items: stretch;\n",
       "  justify-content: center;\n",
       "  background-color: var(--sklearn-color-background);\n",
       "  position: relative;\n",
       "}\n",
       "\n",
       "#sk-container-id-3 div.sk-parallel-item {\n",
       "  display: flex;\n",
       "  flex-direction: column;\n",
       "}\n",
       "\n",
       "#sk-container-id-3 div.sk-parallel-item:first-child::after {\n",
       "  align-self: flex-end;\n",
       "  width: 50%;\n",
       "}\n",
       "\n",
       "#sk-container-id-3 div.sk-parallel-item:last-child::after {\n",
       "  align-self: flex-start;\n",
       "  width: 50%;\n",
       "}\n",
       "\n",
       "#sk-container-id-3 div.sk-parallel-item:only-child::after {\n",
       "  width: 0;\n",
       "}\n",
       "\n",
       "/* Serial-specific style estimator block */\n",
       "\n",
       "#sk-container-id-3 div.sk-serial {\n",
       "  display: flex;\n",
       "  flex-direction: column;\n",
       "  align-items: center;\n",
       "  background-color: var(--sklearn-color-background);\n",
       "  padding-right: 1em;\n",
       "  padding-left: 1em;\n",
       "}\n",
       "\n",
       "\n",
       "/* Toggleable style: style used for estimator/Pipeline/ColumnTransformer box that is\n",
       "clickable and can be expanded/collapsed.\n",
       "- Pipeline and ColumnTransformer use this feature and define the default style\n",
       "- Estimators will overwrite some part of the style using the `sk-estimator` class\n",
       "*/\n",
       "\n",
       "/* Pipeline and ColumnTransformer style (default) */\n",
       "\n",
       "#sk-container-id-3 div.sk-toggleable {\n",
       "  /* Default theme specific background. It is overwritten whether we have a\n",
       "  specific estimator or a Pipeline/ColumnTransformer */\n",
       "  background-color: var(--sklearn-color-background);\n",
       "}\n",
       "\n",
       "/* Toggleable label */\n",
       "#sk-container-id-3 label.sk-toggleable__label {\n",
       "  cursor: pointer;\n",
       "  display: block;\n",
       "  width: 100%;\n",
       "  margin-bottom: 0;\n",
       "  padding: 0.5em;\n",
       "  box-sizing: border-box;\n",
       "  text-align: center;\n",
       "}\n",
       "\n",
       "#sk-container-id-3 label.sk-toggleable__label-arrow:before {\n",
       "  /* Arrow on the left of the label */\n",
       "  content: \"▸\";\n",
       "  float: left;\n",
       "  margin-right: 0.25em;\n",
       "  color: var(--sklearn-color-icon);\n",
       "}\n",
       "\n",
       "#sk-container-id-3 label.sk-toggleable__label-arrow:hover:before {\n",
       "  color: var(--sklearn-color-text);\n",
       "}\n",
       "\n",
       "/* Toggleable content - dropdown */\n",
       "\n",
       "#sk-container-id-3 div.sk-toggleable__content {\n",
       "  max-height: 0;\n",
       "  max-width: 0;\n",
       "  overflow: hidden;\n",
       "  text-align: left;\n",
       "  /* unfitted */\n",
       "  background-color: var(--sklearn-color-unfitted-level-0);\n",
       "}\n",
       "\n",
       "#sk-container-id-3 div.sk-toggleable__content.fitted {\n",
       "  /* fitted */\n",
       "  background-color: var(--sklearn-color-fitted-level-0);\n",
       "}\n",
       "\n",
       "#sk-container-id-3 div.sk-toggleable__content pre {\n",
       "  margin: 0.2em;\n",
       "  border-radius: 0.25em;\n",
       "  color: var(--sklearn-color-text);\n",
       "  /* unfitted */\n",
       "  background-color: var(--sklearn-color-unfitted-level-0);\n",
       "}\n",
       "\n",
       "#sk-container-id-3 div.sk-toggleable__content.fitted pre {\n",
       "  /* unfitted */\n",
       "  background-color: var(--sklearn-color-fitted-level-0);\n",
       "}\n",
       "\n",
       "#sk-container-id-3 input.sk-toggleable__control:checked~div.sk-toggleable__content {\n",
       "  /* Expand drop-down */\n",
       "  max-height: 200px;\n",
       "  max-width: 100%;\n",
       "  overflow: auto;\n",
       "}\n",
       "\n",
       "#sk-container-id-3 input.sk-toggleable__control:checked~label.sk-toggleable__label-arrow:before {\n",
       "  content: \"▾\";\n",
       "}\n",
       "\n",
       "/* Pipeline/ColumnTransformer-specific style */\n",
       "\n",
       "#sk-container-id-3 div.sk-label input.sk-toggleable__control:checked~label.sk-toggleable__label {\n",
       "  color: var(--sklearn-color-text);\n",
       "  background-color: var(--sklearn-color-unfitted-level-2);\n",
       "}\n",
       "\n",
       "#sk-container-id-3 div.sk-label.fitted input.sk-toggleable__control:checked~label.sk-toggleable__label {\n",
       "  background-color: var(--sklearn-color-fitted-level-2);\n",
       "}\n",
       "\n",
       "/* Estimator-specific style */\n",
       "\n",
       "/* Colorize estimator box */\n",
       "#sk-container-id-3 div.sk-estimator input.sk-toggleable__control:checked~label.sk-toggleable__label {\n",
       "  /* unfitted */\n",
       "  background-color: var(--sklearn-color-unfitted-level-2);\n",
       "}\n",
       "\n",
       "#sk-container-id-3 div.sk-estimator.fitted input.sk-toggleable__control:checked~label.sk-toggleable__label {\n",
       "  /* fitted */\n",
       "  background-color: var(--sklearn-color-fitted-level-2);\n",
       "}\n",
       "\n",
       "#sk-container-id-3 div.sk-label label.sk-toggleable__label,\n",
       "#sk-container-id-3 div.sk-label label {\n",
       "  /* The background is the default theme color */\n",
       "  color: var(--sklearn-color-text-on-default-background);\n",
       "}\n",
       "\n",
       "/* On hover, darken the color of the background */\n",
       "#sk-container-id-3 div.sk-label:hover label.sk-toggleable__label {\n",
       "  color: var(--sklearn-color-text);\n",
       "  background-color: var(--sklearn-color-unfitted-level-2);\n",
       "}\n",
       "\n",
       "/* Label box, darken color on hover, fitted */\n",
       "#sk-container-id-3 div.sk-label.fitted:hover label.sk-toggleable__label.fitted {\n",
       "  color: var(--sklearn-color-text);\n",
       "  background-color: var(--sklearn-color-fitted-level-2);\n",
       "}\n",
       "\n",
       "/* Estimator label */\n",
       "\n",
       "#sk-container-id-3 div.sk-label label {\n",
       "  font-family: monospace;\n",
       "  font-weight: bold;\n",
       "  display: inline-block;\n",
       "  line-height: 1.2em;\n",
       "}\n",
       "\n",
       "#sk-container-id-3 div.sk-label-container {\n",
       "  text-align: center;\n",
       "}\n",
       "\n",
       "/* Estimator-specific */\n",
       "#sk-container-id-3 div.sk-estimator {\n",
       "  font-family: monospace;\n",
       "  border: 1px dotted var(--sklearn-color-border-box);\n",
       "  border-radius: 0.25em;\n",
       "  box-sizing: border-box;\n",
       "  margin-bottom: 0.5em;\n",
       "  /* unfitted */\n",
       "  background-color: var(--sklearn-color-unfitted-level-0);\n",
       "}\n",
       "\n",
       "#sk-container-id-3 div.sk-estimator.fitted {\n",
       "  /* fitted */\n",
       "  background-color: var(--sklearn-color-fitted-level-0);\n",
       "}\n",
       "\n",
       "/* on hover */\n",
       "#sk-container-id-3 div.sk-estimator:hover {\n",
       "  /* unfitted */\n",
       "  background-color: var(--sklearn-color-unfitted-level-2);\n",
       "}\n",
       "\n",
       "#sk-container-id-3 div.sk-estimator.fitted:hover {\n",
       "  /* fitted */\n",
       "  background-color: var(--sklearn-color-fitted-level-2);\n",
       "}\n",
       "\n",
       "/* Specification for estimator info (e.g. \"i\" and \"?\") */\n",
       "\n",
       "/* Common style for \"i\" and \"?\" */\n",
       "\n",
       ".sk-estimator-doc-link,\n",
       "a:link.sk-estimator-doc-link,\n",
       "a:visited.sk-estimator-doc-link {\n",
       "  float: right;\n",
       "  font-size: smaller;\n",
       "  line-height: 1em;\n",
       "  font-family: monospace;\n",
       "  background-color: var(--sklearn-color-background);\n",
       "  border-radius: 1em;\n",
       "  height: 1em;\n",
       "  width: 1em;\n",
       "  text-decoration: none !important;\n",
       "  margin-left: 1ex;\n",
       "  /* unfitted */\n",
       "  border: var(--sklearn-color-unfitted-level-1) 1pt solid;\n",
       "  color: var(--sklearn-color-unfitted-level-1);\n",
       "}\n",
       "\n",
       ".sk-estimator-doc-link.fitted,\n",
       "a:link.sk-estimator-doc-link.fitted,\n",
       "a:visited.sk-estimator-doc-link.fitted {\n",
       "  /* fitted */\n",
       "  border: var(--sklearn-color-fitted-level-1) 1pt solid;\n",
       "  color: var(--sklearn-color-fitted-level-1);\n",
       "}\n",
       "\n",
       "/* On hover */\n",
       "div.sk-estimator:hover .sk-estimator-doc-link:hover,\n",
       ".sk-estimator-doc-link:hover,\n",
       "div.sk-label-container:hover .sk-estimator-doc-link:hover,\n",
       ".sk-estimator-doc-link:hover {\n",
       "  /* unfitted */\n",
       "  background-color: var(--sklearn-color-unfitted-level-3);\n",
       "  color: var(--sklearn-color-background);\n",
       "  text-decoration: none;\n",
       "}\n",
       "\n",
       "div.sk-estimator.fitted:hover .sk-estimator-doc-link.fitted:hover,\n",
       ".sk-estimator-doc-link.fitted:hover,\n",
       "div.sk-label-container:hover .sk-estimator-doc-link.fitted:hover,\n",
       ".sk-estimator-doc-link.fitted:hover {\n",
       "  /* fitted */\n",
       "  background-color: var(--sklearn-color-fitted-level-3);\n",
       "  color: var(--sklearn-color-background);\n",
       "  text-decoration: none;\n",
       "}\n",
       "\n",
       "/* Span, style for the box shown on hovering the info icon */\n",
       ".sk-estimator-doc-link span {\n",
       "  display: none;\n",
       "  z-index: 9999;\n",
       "  position: relative;\n",
       "  font-weight: normal;\n",
       "  right: .2ex;\n",
       "  padding: .5ex;\n",
       "  margin: .5ex;\n",
       "  width: min-content;\n",
       "  min-width: 20ex;\n",
       "  max-width: 50ex;\n",
       "  color: var(--sklearn-color-text);\n",
       "  box-shadow: 2pt 2pt 4pt #999;\n",
       "  /* unfitted */\n",
       "  background: var(--sklearn-color-unfitted-level-0);\n",
       "  border: .5pt solid var(--sklearn-color-unfitted-level-3);\n",
       "}\n",
       "\n",
       ".sk-estimator-doc-link.fitted span {\n",
       "  /* fitted */\n",
       "  background: var(--sklearn-color-fitted-level-0);\n",
       "  border: var(--sklearn-color-fitted-level-3);\n",
       "}\n",
       "\n",
       ".sk-estimator-doc-link:hover span {\n",
       "  display: block;\n",
       "}\n",
       "\n",
       "/* \"?\"-specific style due to the `<a>` HTML tag */\n",
       "\n",
       "#sk-container-id-3 a.estimator_doc_link {\n",
       "  float: right;\n",
       "  font-size: 1rem;\n",
       "  line-height: 1em;\n",
       "  font-family: monospace;\n",
       "  background-color: var(--sklearn-color-background);\n",
       "  border-radius: 1rem;\n",
       "  height: 1rem;\n",
       "  width: 1rem;\n",
       "  text-decoration: none;\n",
       "  /* unfitted */\n",
       "  color: var(--sklearn-color-unfitted-level-1);\n",
       "  border: var(--sklearn-color-unfitted-level-1) 1pt solid;\n",
       "}\n",
       "\n",
       "#sk-container-id-3 a.estimator_doc_link.fitted {\n",
       "  /* fitted */\n",
       "  border: var(--sklearn-color-fitted-level-1) 1pt solid;\n",
       "  color: var(--sklearn-color-fitted-level-1);\n",
       "}\n",
       "\n",
       "/* On hover */\n",
       "#sk-container-id-3 a.estimator_doc_link:hover {\n",
       "  /* unfitted */\n",
       "  background-color: var(--sklearn-color-unfitted-level-3);\n",
       "  color: var(--sklearn-color-background);\n",
       "  text-decoration: none;\n",
       "}\n",
       "\n",
       "#sk-container-id-3 a.estimator_doc_link.fitted:hover {\n",
       "  /* fitted */\n",
       "  background-color: var(--sklearn-color-fitted-level-3);\n",
       "}\n",
       "</style><div id=\"sk-container-id-3\" class=\"sk-top-container\"><div class=\"sk-text-repr-fallback\"><pre>MultinomialNB()</pre><b>In a Jupyter environment, please rerun this cell to show the HTML representation or trust the notebook. <br />On GitHub, the HTML representation is unable to render, please try loading this page with nbviewer.org.</b></div><div class=\"sk-container\" hidden><div class=\"sk-item\"><div class=\"sk-estimator fitted sk-toggleable\"><input class=\"sk-toggleable__control sk-hidden--visually\" id=\"sk-estimator-id-3\" type=\"checkbox\" checked><label for=\"sk-estimator-id-3\" class=\"sk-toggleable__label fitted sk-toggleable__label-arrow fitted\">&nbsp;&nbsp;MultinomialNB<a class=\"sk-estimator-doc-link fitted\" rel=\"noreferrer\" target=\"_blank\" href=\"https://scikit-learn.org/1.4/modules/generated/sklearn.naive_bayes.MultinomialNB.html\">?<span>Documentation for MultinomialNB</span></a><span class=\"sk-estimator-doc-link fitted\">i<span>Fitted</span></span></label><div class=\"sk-toggleable__content fitted\"><pre>MultinomialNB()</pre></div> </div></div></div></div>"
      ],
      "text/plain": [
       "MultinomialNB()"
      ]
     },
     "execution_count": 61,
     "metadata": {},
     "output_type": "execute_result"
    }
   ],
   "source": [
    "from sklearn.naive_bayes import MultinomialNB\n",
    "\n",
    "# Initialize multinomial NB classifier\n",
    "classifier = MultinomialNB()\n",
    "\n",
    "# Train classifier\n",
    "classifier.fit(x_train, y_train)"
   ]
  },
  {
   "cell_type": "markdown",
   "id": "370fdb44",
   "metadata": {},
   "source": [
    "# Task 2.10\n",
    "Make classification predictions."
   ]
  },
  {
   "cell_type": "code",
   "execution_count": 62,
   "id": "b3ede8c9",
   "metadata": {
    "scrolled": true
   },
   "outputs": [
    {
     "data": {
      "text/html": [
       "<div>\n",
       "<style scoped>\n",
       "    .dataframe tbody tr th:only-of-type {\n",
       "        vertical-align: middle;\n",
       "    }\n",
       "\n",
       "    .dataframe tbody tr th {\n",
       "        vertical-align: top;\n",
       "    }\n",
       "\n",
       "    .dataframe thead th {\n",
       "        text-align: right;\n",
       "    }\n",
       "</style>\n",
       "<table border=\"1\" class=\"dataframe\">\n",
       "  <thead>\n",
       "    <tr style=\"text-align: right;\">\n",
       "      <th></th>\n",
       "      <th>116093</th>\n",
       "      <th>100810</th>\n",
       "      <th>101155</th>\n",
       "      <th>95192</th>\n",
       "      <th>158112</th>\n",
       "      <th>190510</th>\n",
       "      <th>29579</th>\n",
       "      <th>34993</th>\n",
       "      <th>22374</th>\n",
       "      <th>143480</th>\n",
       "      <th>...</th>\n",
       "      <th>48689</th>\n",
       "      <th>144905</th>\n",
       "      <th>47913</th>\n",
       "      <th>108414</th>\n",
       "      <th>152103</th>\n",
       "      <th>195970</th>\n",
       "      <th>94358</th>\n",
       "      <th>138725</th>\n",
       "      <th>114388</th>\n",
       "      <th>134634</th>\n",
       "    </tr>\n",
       "  </thead>\n",
       "  <tbody>\n",
       "    <tr>\n",
       "      <th>prediction</th>\n",
       "      <td>bad</td>\n",
       "      <td>good</td>\n",
       "      <td>bad</td>\n",
       "      <td>good</td>\n",
       "      <td>bad</td>\n",
       "      <td>bad</td>\n",
       "      <td>good</td>\n",
       "      <td>good</td>\n",
       "      <td>neutral</td>\n",
       "      <td>bad</td>\n",
       "      <td>...</td>\n",
       "      <td>bad</td>\n",
       "      <td>neutral</td>\n",
       "      <td>good</td>\n",
       "      <td>bad</td>\n",
       "      <td>bad</td>\n",
       "      <td>neutral</td>\n",
       "      <td>bad</td>\n",
       "      <td>bad</td>\n",
       "      <td>good</td>\n",
       "      <td>bad</td>\n",
       "    </tr>\n",
       "    <tr>\n",
       "      <th>actual</th>\n",
       "      <td>bad</td>\n",
       "      <td>good</td>\n",
       "      <td>bad</td>\n",
       "      <td>good</td>\n",
       "      <td>bad</td>\n",
       "      <td>good</td>\n",
       "      <td>good</td>\n",
       "      <td>good</td>\n",
       "      <td>neutral</td>\n",
       "      <td>bad</td>\n",
       "      <td>...</td>\n",
       "      <td>bad</td>\n",
       "      <td>neutral</td>\n",
       "      <td>good</td>\n",
       "      <td>neutral</td>\n",
       "      <td>bad</td>\n",
       "      <td>good</td>\n",
       "      <td>bad</td>\n",
       "      <td>neutral</td>\n",
       "      <td>good</td>\n",
       "      <td>bad</td>\n",
       "    </tr>\n",
       "  </tbody>\n",
       "</table>\n",
       "<p>2 rows × 43525 columns</p>\n",
       "</div>"
      ],
      "text/plain": [
       "           116093 100810 101155 95192  158112 190510 29579  34993    22374   \\\n",
       "prediction    bad   good    bad   good    bad    bad   good   good  neutral   \n",
       "actual        bad   good    bad   good    bad   good   good   good  neutral   \n",
       "\n",
       "           143480  ... 48689    144905 47913    108414 152103   195970 94358   \\\n",
       "prediction    bad  ...    bad  neutral   good      bad    bad  neutral    bad   \n",
       "actual        bad  ...    bad  neutral   good  neutral    bad     good    bad   \n",
       "\n",
       "             138725 114388 134634  \n",
       "prediction      bad   good    bad  \n",
       "actual      neutral   good    bad  \n",
       "\n",
       "[2 rows x 43525 columns]"
      ]
     },
     "execution_count": 62,
     "metadata": {},
     "output_type": "execute_result"
    }
   ],
   "source": [
    "# Generate predictions\n",
    "y_pred = classifier.predict(x_test)\n",
    "\n",
    "# Create dataframe of predictions vs. actual values\n",
    "prediction_vs_actual = pd.DataFrame({\n",
    "    \"prediction\": y_pred, \n",
    "    \"actual\": y_test\n",
    "})\n",
    "\n",
    "prediction_vs_actual.transpose().head()"
   ]
  },
  {
   "cell_type": "code",
   "execution_count": 63,
   "id": "8d7a6697",
   "metadata": {},
   "outputs": [
    {
     "name": "stdout",
     "output_type": "stream",
     "text": [
      "Number of test entries: 43525\n",
      "Number of correct predictions: 31079\n",
      "Accuracy: 71.4%\n"
     ]
    }
   ],
   "source": [
    "# Find number of correct predictions\n",
    "correct_prediction_count = len(prediction_vs_actual[prediction_vs_actual[\"prediction\"] == prediction_vs_actual[\"actual\"]])\n",
    "\n",
    "# Find percentage of correct predictions\n",
    "accuracy = (correct_prediction_count / len(y_test)) * 100\n",
    "\n",
    "print(f\"Number of test entries: {len(y_test)}\")\n",
    "print(f\"Number of correct predictions: {correct_prediction_count}\")\n",
    "print(f\"Accuracy: {round(accuracy, 2)}%\")"
   ]
  },
  {
   "cell_type": "markdown",
   "id": "440f96d8",
   "metadata": {},
   "source": [
    "# Task 2.11\n",
    "<i>Interpret the results in the context of the questions you asked.</i>"
   ]
  },
  {
   "cell_type": "markdown",
   "id": "4c92ee5d",
   "metadata": {},
   "source": [
    "Our accuracy score indicates that the classifier correctly predicts the sentiment of about 7 out of every 10 tweets. This means that the answer to the first question we asked is \"yes, we can automatically assign sentiment to tweets about ChatGPT with a Naive Bayes classifier\".\n",
    "\n",
    "The second question, which involves asking whether the tweets can be grouped into categories based on their content, cannot be answered yet, because it would require building a clustering model that auto-generates categories/clusters to sort tweets into, which is beyond the scope of this assignment and any other assignment we have done in this class thus far. \n",
    "\n",
    "# Task 2.12\n",
    "Validate your model using a confusion matrix, accuracy score, ROC-AUC curves, and k-fold cross validation. Then, explain the results.\n",
    "\n",
    "### Confusion matrix"
   ]
  },
  {
   "cell_type": "code",
   "execution_count": 64,
   "id": "4617be05",
   "metadata": {},
   "outputs": [
    {
     "name": "stdout",
     "output_type": "stream",
     "text": [
      "Label order: ['bad' 'good' 'neutral']\n",
      "\n",
      "Confusion matrix:\n",
      "\n",
      "[[20554   486   496]\n",
      " [ 1961  7469  1653]\n",
      " [ 5622  2228  3056]]\n"
     ]
    }
   ],
   "source": [
    "from sklearn.metrics import confusion_matrix\n",
    "import matplotlib.pyplot as plt\n",
    "import seaborn as sns\n",
    "\n",
    "# Create confusion matrix\n",
    "cm = confusion_matrix(y_test, y_pred)\n",
    "\n",
    "# Find order of label values\n",
    "print(f\"Label order: {classifier.classes_}\")\n",
    "print()\n",
    "print(\"Confusion matrix:\")\n",
    "print()\n",
    "\n",
    "# Print confusion matrix\n",
    "print(cm)"
   ]
  },
  {
   "cell_type": "markdown",
   "id": "9d46f3df",
   "metadata": {},
   "source": [
    "The labeled matrix is as follows: \n",
    "<table>\n",
    "    <tr>\n",
    "        <td></td>\n",
    "        <td>predicted bad</td>\n",
    "        <td>predicted good</td>\n",
    "        <td>predicted neutral</td>\n",
    "    </tr>\n",
    "    <tr>\n",
    "        <td>actual bad</td>\n",
    "        <td>20,554</td>\n",
    "        <td>486</td>\n",
    "        <td>496</td>\n",
    "    </tr>\n",
    "    <tr>\n",
    "        <td>actual good</td>\n",
    "        <td>1,961</td>\n",
    "        <td>7,469</td>\n",
    "        <td>1,653</td>\n",
    "    </tr>\n",
    "    <tr>\n",
    "        <td>actual neutral</td>\n",
    "        <td>5,622</td>\n",
    "        <td>2,228</td>\n",
    "        <td>3,056</td>\n",
    "    </tr>\n",
    "    </table>"
   ]
  },
  {
   "cell_type": "markdown",
   "id": "77ce733f",
   "metadata": {},
   "source": [
    "We can see that the the two largest values were tweets that were predicted to be bad and were actually bad, and tweets that were predicted to be good and were actually good. This provides further evidence that the model is accurate in its classifications."
   ]
  },
  {
   "cell_type": "markdown",
   "id": "9a047ad2",
   "metadata": {},
   "source": [
    "### Accuracy score\n",
    "The accuracy score was determined earlier to be ~74.1%, meaning that on average, the model correctly classified a tweet's sentiment about 71.4% of the time, far better than what we would get with random guessing in a classification problem like this with 3 classes (33%). \n",
    "\n",
    "### ROC-AUC curves\n",
    "Generating ROC-AUC curves for a model built to handle a classification problem with more than 2 classes is complex and computationally intensive, so we will direct our focus toward other more straighforward evaluation metrics, such as the accuracy score and confusion matrix.\n",
    "\n",
    "### K-fold cross-validation"
   ]
  },
  {
   "cell_type": "code",
   "execution_count": 65,
   "id": "d2b8119e",
   "metadata": {},
   "outputs": [],
   "source": [
    "from sklearn.model_selection import cross_val_score\n",
    "\n",
    "# Calculate k-fold cross-validation scores\n",
    "scores = cross_val_score(classifier, x_tfidf, df[\"label\"], cv=5, scoring=\"accuracy\")"
   ]
  },
  {
   "cell_type": "code",
   "execution_count": 66,
   "id": "540eeb23",
   "metadata": {},
   "outputs": [
    {
     "name": "stdout",
     "output_type": "stream",
     "text": [
      "Cross-validation scores: [0.70731763 0.70690408 0.69782883 0.69669608 0.69671905]\n",
      "Mean score: 0.701 \n",
      "\n"
     ]
    }
   ],
   "source": [
    "# Show cross-validation scores\n",
    "print(\"Cross-validation scores:\", scores)\n",
    "print(\"Mean score:\", round(scores.mean(), 3),\"\\n\")"
   ]
  },
  {
   "cell_type": "markdown",
   "id": "9bd115c4",
   "metadata": {},
   "source": [
    "The mean cross-validation score from 5 iterations is 0.701, indicating that the NB classifier we have built correctly predicts the sentiment of tweets about 70.1% of the time. This is slightly lower than the accuracy score we calculated earlier, but still impressive, and confirms the notion that tweet sentiment can be accurately predicted with a Naive Bayes classifier. "
   ]
  },
  {
   "cell_type": "markdown",
   "id": "e2b359a6",
   "metadata": {},
   "source": [
    "# Task 2.13\n",
    "<i>Include all mathematical formulas used and graphs representing the final outcomes.</i>\n",
    "\n",
    "All relevant formulas and graphs have been included in their respective tasks.\n",
    "\n",
    "# References\n",
    "GeeksforGeeks. (2024b, March 1). Naive Bayes classifiers. GeeksforGeeks. https://www.geeksforgeeks.org/naive-bayes-classifiers/ <br>\n",
    "A practical explanation of a Naive Bayes classifier. (2017, May 25). MonkeyLearn Blog. https://monkeylearn.com/blog/practical-explanation-naive-bayes-classifier/ <br>\n",
    "ChatGPT. (n.d.). https://chat.openai.com/ <br>\n",
    "Gemini. (n.d.). https://gemini.google.com/app <br>"
   ]
  }
 ],
 "metadata": {
  "kernelspec": {
   "display_name": "Python 3 (ipykernel)",
   "language": "python",
   "name": "python3"
  },
  "language_info": {
   "codemirror_mode": {
    "name": "ipython",
    "version": 3
   },
   "file_extension": ".py",
   "mimetype": "text/x-python",
   "name": "python",
   "nbconvert_exporter": "python",
   "pygments_lexer": "ipython3",
   "version": "3.11.5"
  }
 },
 "nbformat": 4,
 "nbformat_minor": 5
}
